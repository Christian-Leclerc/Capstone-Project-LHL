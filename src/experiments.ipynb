{
 "cells": [
  {
   "cell_type": "code",
   "execution_count": 1,
   "metadata": {},
   "outputs": [],
   "source": [
    "from modules.data_loading import load_train_data, load_test_data\n",
    "import pandas as pd\n",
    "import numpy as np\n",
    "import ydata_profiling\n"
   ]
  },
  {
   "cell_type": "code",
   "execution_count": 2,
   "metadata": {},
   "outputs": [
    {
     "data": {
      "text/html": [
       "<div>\n",
       "<style scoped>\n",
       "    .dataframe tbody tr th:only-of-type {\n",
       "        vertical-align: middle;\n",
       "    }\n",
       "\n",
       "    .dataframe tbody tr th {\n",
       "        vertical-align: top;\n",
       "    }\n",
       "\n",
       "    .dataframe thead th {\n",
       "        text-align: right;\n",
       "    }\n",
       "</style>\n",
       "<table border=\"1\" class=\"dataframe\">\n",
       "  <thead>\n",
       "    <tr style=\"text-align: right;\">\n",
       "      <th></th>\n",
       "      <th>Addresse</th>\n",
       "      <th>YearBuilt</th>\n",
       "      <th>Type de bâtiment</th>\n",
       "      <th>Occupation</th>\n",
       "      <th>Utilisation propriété</th>\n",
       "      <th>Signat. acte de vente</th>\n",
       "      <th>Dimensions du bâtiment</th>\n",
       "      <th>Éval. terrain</th>\n",
       "      <th>Superficie habitable</th>\n",
       "      <th>Éval. bâtiment</th>\n",
       "      <th>...</th>\n",
       "      <th>Rénovations</th>\n",
       "      <th>Inclusions</th>\n",
       "      <th>Exclusions</th>\n",
       "      <th>Remarques - Courtier</th>\n",
       "      <th>Addenda</th>\n",
       "      <th>Nbre pièces</th>\n",
       "      <th>Nbre chambres (hors-sol + sous-sol)</th>\n",
       "      <th>Nbre salles de bains + salles d'eau</th>\n",
       "      <th>No Centris</th>\n",
       "      <th>Source</th>\n",
       "    </tr>\n",
       "  </thead>\n",
       "  <tbody>\n",
       "    <tr>\n",
       "      <th>0</th>\n",
       "      <td>10880-10882 Boul. de l'Acadie Montréal (Ahunts...</td>\n",
       "      <td>Duplex dans le quartier Nouveau Bordeaux const...</td>\n",
       "      <td>Jumelé</td>\n",
       "      <td>Selon les baux</td>\n",
       "      <td>Résidentielle seulement</td>\n",
       "      <td>30 jours PA/PL acceptée</td>\n",
       "      <td>NaN</td>\n",
       "      <td>162 100 $</td>\n",
       "      <td>NaN</td>\n",
       "      <td>447 200 $</td>\n",
       "      <td>...</td>\n",
       "      <td>NaN</td>\n",
       "      <td>unité 10882 :luminaires, cuisinière, four enca...</td>\n",
       "      <td>Effets personnels des locataires</td>\n",
       "      <td>Première fois sur le marché. Superbe duplex si...</td>\n",
       "      <td>A la demande du vendeur les visites auront lie...</td>\n",
       "      <td>12.0</td>\n",
       "      <td>3.0</td>\n",
       "      <td>2+0</td>\n",
       "      <td>27987042</td>\n",
       "      <td>NaN</td>\n",
       "    </tr>\n",
       "    <tr>\n",
       "      <th>1</th>\n",
       "      <td>10900-10902 Boul. de l'Acadie Montréal (Ahunts...</td>\n",
       "      <td>Duplex dans le quartier Nouveau Bordeaux const...</td>\n",
       "      <td>Jumelé</td>\n",
       "      <td>Selon les baux</td>\n",
       "      <td>Résidentielle seulement</td>\n",
       "      <td>90 jours PA/PL acceptée</td>\n",
       "      <td>NaN</td>\n",
       "      <td>162 100 $</td>\n",
       "      <td>NaN</td>\n",
       "      <td>428 300 $</td>\n",
       "      <td>...</td>\n",
       "      <td>NaN</td>\n",
       "      <td>Unité 10902 : Tous Luminaires, stores, rideaux...</td>\n",
       "      <td>Unité 10902: Frigo, Cuisinière, Laveuse    Uni...</td>\n",
       "      <td>Belle opportunité d'investissement ou pour un ...</td>\n",
       "      <td>Il y a une garçonnière 21/2 vacante au rez-de-...</td>\n",
       "      <td>9.0</td>\n",
       "      <td>3.0</td>\n",
       "      <td>2+0</td>\n",
       "      <td>16589023</td>\n",
       "      <td>NaN</td>\n",
       "    </tr>\n",
       "    <tr>\n",
       "      <th>2</th>\n",
       "      <td>11847-11849A Rue Alexandre-Lacoste Montréal (A...</td>\n",
       "      <td>Duplex dans le quartier Nouveau Bordeaux const...</td>\n",
       "      <td>Jumelé</td>\n",
       "      <td>Selon les baux</td>\n",
       "      <td>Résidentielle seulement</td>\n",
       "      <td>30 jours PA/PL acceptée</td>\n",
       "      <td>NaN</td>\n",
       "      <td>224 500 $</td>\n",
       "      <td>NaN</td>\n",
       "      <td>411 400 $</td>\n",
       "      <td>...</td>\n",
       "      <td>NaN</td>\n",
       "      <td>Luminaires - Stores - Pôles - Rideaux - Aspira...</td>\n",
       "      <td>11847: Biens, meubles des occupants(négociable...</td>\n",
       "      <td>Duplex avec bachelor situé dans un quartier ma...</td>\n",
       "      <td>Duplex avec bachelor situé dans un quartier ma...</td>\n",
       "      <td>5.0</td>\n",
       "      <td>3.0</td>\n",
       "      <td>2+0</td>\n",
       "      <td>27639810</td>\n",
       "      <td>NaN</td>\n",
       "    </tr>\n",
       "    <tr>\n",
       "      <th>3</th>\n",
       "      <td>1985-1985A Av. Alfred-Laliberté Montréal (Ahun...</td>\n",
       "      <td>Duplex dans le quartier Nouveau Bordeaux const...</td>\n",
       "      <td>Jumelé</td>\n",
       "      <td>30 jours PA/PL acceptée</td>\n",
       "      <td>Résidentielle seulement</td>\n",
       "      <td>30 jours PA/PL acceptée</td>\n",
       "      <td>NaN</td>\n",
       "      <td>427 500 $</td>\n",
       "      <td>NaN</td>\n",
       "      <td>247 500 $</td>\n",
       "      <td>...</td>\n",
       "      <td>Revêtement de la toiture - 2022 (  16 000 $)</td>\n",
       "      <td>Luminaires, revêtements de fenêtres, credenza ...</td>\n",
       "      <td>Effets personnels</td>\n",
       "      <td>NaN</td>\n",
       "      <td>Ce duplex est situé dans un excellent secteur ...</td>\n",
       "      <td>5.0</td>\n",
       "      <td>3.0</td>\n",
       "      <td>1+0</td>\n",
       "      <td>28604684</td>\n",
       "      <td>RE/MAX EXCELLENCE INC., Agence immobilière</td>\n",
       "    </tr>\n",
       "    <tr>\n",
       "      <th>4</th>\n",
       "      <td>11761-11763A Av. Alfred-Laliberté Montréal (Ah...</td>\n",
       "      <td>Triplex dans le quartier Nouveau Bordeaux cons...</td>\n",
       "      <td>Jumelé</td>\n",
       "      <td>Selon les baux</td>\n",
       "      <td>Résidentielle seulement</td>\n",
       "      <td>30 jours PA/PL acceptée</td>\n",
       "      <td>NaN</td>\n",
       "      <td>193 800 $</td>\n",
       "      <td>NaN</td>\n",
       "      <td>353 100 $</td>\n",
       "      <td>...</td>\n",
       "      <td>NaN</td>\n",
       "      <td>selon les baux</td>\n",
       "      <td>selon les baux</td>\n",
       "      <td>Un nouveau certificat de localisation est comm...</td>\n",
       "      <td>** Magnifique propriété avec bachelor dans le ...</td>\n",
       "      <td>9.0</td>\n",
       "      <td>3.0</td>\n",
       "      <td>1+0</td>\n",
       "      <td>13665549</td>\n",
       "      <td>NaN</td>\n",
       "    </tr>\n",
       "  </tbody>\n",
       "</table>\n",
       "<p>5 rows × 32 columns</p>\n",
       "</div>"
      ],
      "text/plain": [
       "                                            Addresse  \\\n",
       "0  10880-10882 Boul. de l'Acadie Montréal (Ahunts...   \n",
       "1  10900-10902 Boul. de l'Acadie Montréal (Ahunts...   \n",
       "2  11847-11849A Rue Alexandre-Lacoste Montréal (A...   \n",
       "3  1985-1985A Av. Alfred-Laliberté Montréal (Ahun...   \n",
       "4  11761-11763A Av. Alfred-Laliberté Montréal (Ah...   \n",
       "\n",
       "                                           YearBuilt Type de bâtiment  \\\n",
       "0  Duplex dans le quartier Nouveau Bordeaux const...           Jumelé   \n",
       "1  Duplex dans le quartier Nouveau Bordeaux const...           Jumelé   \n",
       "2  Duplex dans le quartier Nouveau Bordeaux const...           Jumelé   \n",
       "3  Duplex dans le quartier Nouveau Bordeaux const...           Jumelé   \n",
       "4  Triplex dans le quartier Nouveau Bordeaux cons...           Jumelé   \n",
       "\n",
       "                Occupation    Utilisation propriété    Signat. acte de vente  \\\n",
       "0           Selon les baux  Résidentielle seulement  30 jours PA/PL acceptée   \n",
       "1           Selon les baux  Résidentielle seulement  90 jours PA/PL acceptée   \n",
       "2           Selon les baux  Résidentielle seulement  30 jours PA/PL acceptée   \n",
       "3  30 jours PA/PL acceptée  Résidentielle seulement  30 jours PA/PL acceptée   \n",
       "4           Selon les baux  Résidentielle seulement  30 jours PA/PL acceptée   \n",
       "\n",
       "  Dimensions du bâtiment Éval. terrain Superficie habitable Éval. bâtiment  \\\n",
       "0                    NaN     162 100 $                  NaN      447 200 $   \n",
       "1                    NaN     162 100 $                  NaN      428 300 $   \n",
       "2                    NaN     224 500 $                  NaN      411 400 $   \n",
       "3                    NaN     427 500 $                  NaN      247 500 $   \n",
       "4                    NaN     193 800 $                  NaN      353 100 $   \n",
       "\n",
       "   ...                                   Rénovations  \\\n",
       "0  ...                                           NaN   \n",
       "1  ...                                           NaN   \n",
       "2  ...                                           NaN   \n",
       "3  ...  Revêtement de la toiture - 2022 (  16 000 $)   \n",
       "4  ...                                           NaN   \n",
       "\n",
       "                                          Inclusions  \\\n",
       "0  unité 10882 :luminaires, cuisinière, four enca...   \n",
       "1  Unité 10902 : Tous Luminaires, stores, rideaux...   \n",
       "2  Luminaires - Stores - Pôles - Rideaux - Aspira...   \n",
       "3  Luminaires, revêtements de fenêtres, credenza ...   \n",
       "4                                     selon les baux   \n",
       "\n",
       "                                          Exclusions  \\\n",
       "0                   Effets personnels des locataires   \n",
       "1  Unité 10902: Frigo, Cuisinière, Laveuse    Uni...   \n",
       "2  11847: Biens, meubles des occupants(négociable...   \n",
       "3                                  Effets personnels   \n",
       "4                                     selon les baux   \n",
       "\n",
       "                                Remarques - Courtier  \\\n",
       "0  Première fois sur le marché. Superbe duplex si...   \n",
       "1  Belle opportunité d'investissement ou pour un ...   \n",
       "2  Duplex avec bachelor situé dans un quartier ma...   \n",
       "3                                                NaN   \n",
       "4  Un nouveau certificat de localisation est comm...   \n",
       "\n",
       "                                             Addenda Nbre pièces  \\\n",
       "0  A la demande du vendeur les visites auront lie...        12.0   \n",
       "1  Il y a une garçonnière 21/2 vacante au rez-de-...         9.0   \n",
       "2  Duplex avec bachelor situé dans un quartier ma...         5.0   \n",
       "3  Ce duplex est situé dans un excellent secteur ...         5.0   \n",
       "4  ** Magnifique propriété avec bachelor dans le ...         9.0   \n",
       "\n",
       "  Nbre chambres (hors-sol + sous-sol) Nbre salles de bains + salles d'eau  \\\n",
       "0                                 3.0                                 2+0   \n",
       "1                                 3.0                                 2+0   \n",
       "2                                 3.0                                 2+0   \n",
       "3                                 3.0                                 1+0   \n",
       "4                                 3.0                                 1+0   \n",
       "\n",
       "  No Centris                                      Source  \n",
       "0   27987042                                         NaN  \n",
       "1   16589023                                         NaN  \n",
       "2   27639810                                         NaN  \n",
       "3   28604684  RE/MAX EXCELLENCE INC., Agence immobilière  \n",
       "4   13665549                                         NaN  \n",
       "\n",
       "[5 rows x 32 columns]"
      ]
     },
     "execution_count": 2,
     "metadata": {},
     "output_type": "execute_result"
    }
   ],
   "source": [
    "df = load_train_data()\n",
    "df.head()"
   ]
  },
  {
   "cell_type": "code",
   "execution_count": 3,
   "metadata": {},
   "outputs": [
    {
     "data": {
      "text/plain": [
       "Index(['Dimensions du bâtiment', 'Éval. terrain', 'Superficie habitable',\n",
       "       'Éval. bâtiment', 'Dimensions du terrain', 'Superficie du terrain',\n",
       "       'Plan d'eau', 'Piscine', 'Stationnement (total)', 'Chauffage',\n",
       "       'Eau (accès)', 'Foyers-Poêles', 'Équip./Serv.', 'Rénovations',\n",
       "       'Inclusions', 'Exclusions', 'Remarques - Courtier', 'Addenda',\n",
       "       'Nbre pièces', 'Nbre chambres (hors-sol + sous-sol)',\n",
       "       'Nbre salles de bains + salles d'eau', 'Source'],\n",
       "      dtype='object')"
      ]
     },
     "execution_count": 3,
     "metadata": {},
     "output_type": "execute_result"
    }
   ],
   "source": [
    "null_cols = df.columns[df.isnull().any()]\n",
    "null_cols"
   ]
  },
  {
   "cell_type": "code",
   "execution_count": 4,
   "metadata": {},
   "outputs": [
    {
     "data": {
      "application/vnd.jupyter.widget-view+json": {
       "model_id": "3f0d96b0ea884e22870ad8f1fa2be7a8",
       "version_major": 2,
       "version_minor": 0
      },
      "text/plain": [
       "Summarize dataset:   0%|          | 0/5 [00:00<?, ?it/s]"
      ]
     },
     "metadata": {},
     "output_type": "display_data"
    },
    {
     "data": {
      "application/vnd.jupyter.widget-view+json": {
       "model_id": "3a66b782e5db470ab59c41ed7924701d",
       "version_major": 2,
       "version_minor": 0
      },
      "text/plain": [
       "Generate report structure:   0%|          | 0/1 [00:00<?, ?it/s]"
      ]
     },
     "metadata": {},
     "output_type": "display_data"
    },
    {
     "data": {
      "application/vnd.jupyter.widget-view+json": {
       "model_id": "23e31ac3993a4a4fbf964a868917bb6e",
       "version_major": 2,
       "version_minor": 0
      },
      "text/plain": [
       "Render HTML:   0%|          | 0/1 [00:00<?, ?it/s]"
      ]
     },
     "metadata": {},
     "output_type": "display_data"
    },
    {
     "data": {
      "application/vnd.jupyter.widget-view+json": {
       "model_id": "5be19cdc30e04a22a832982106d4bb96",
       "version_major": 2,
       "version_minor": 0
      },
      "text/plain": [
       "Export report to file:   0%|          | 0/1 [00:00<?, ?it/s]"
      ]
     },
     "metadata": {},
     "output_type": "display_data"
    }
   ],
   "source": [
    "profile = df.profile_report()\n",
    "profile.to_file(\"eda_report.html\")"
   ]
  }
 ],
 "metadata": {
  "kernelspec": {
   "display_name": "dev_lhl",
   "language": "python",
   "name": "dev_lhl"
  },
  "language_info": {
   "codemirror_mode": {
    "name": "ipython",
    "version": 3
   },
   "file_extension": ".py",
   "mimetype": "text/x-python",
   "name": "python",
   "nbconvert_exporter": "python",
   "pygments_lexer": "ipython3",
   "version": "3.11.3"
  },
  "orig_nbformat": 4
 },
 "nbformat": 4,
 "nbformat_minor": 2
}
