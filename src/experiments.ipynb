{
 "cells": [
  {
   "cell_type": "code",
   "execution_count": null,
   "metadata": {
    "tags": []
   },
   "outputs": [],
   "source": [
    "from modules.data_loading import load_train_data, load_listings_data\n",
    "from modules.data_preprocessing import clean_data, feature_engineering\n",
    "from modules.figure_generation import TSNE_kMeans_figure, random_forest_features\n",
    "from modules.modeling import main, predict_price\n",
    "import pandas as pd\n",
    "import numpy as np\n",
    "import ydata_profiling\n",
    "import matplotlib.pyplot as plt\n",
    "from joblib import load"
   ]
  },
  {
   "cell_type": "markdown",
   "metadata": {},
   "source": [
    "# Loading and EDA"
   ]
  },
  {
   "cell_type": "code",
   "execution_count": null,
   "metadata": {
    "tags": []
   },
   "outputs": [],
   "source": [
    "df=load_train_data()\n",
    "df_cleaned = clean_data(df)\n",
    "df_engineered = feature_engineering(df_cleaned)\n",
    "df_engineered.shape[0]"
   ]
  },
  {
   "cell_type": "code",
   "execution_count": null,
   "metadata": {},
   "outputs": [],
   "source": [
    "# Extract quantitative columns\n",
    "quantitatives = df_engineered.select_dtypes(include=['int64', 'float64']).copy()\n",
    "# Drop the 'ID' column\n",
    "quantitatives = quantitatives.drop(columns=['ID','price', 'rooms', 'bedrooms', 'washrooms', 'year_built',\n",
    "                                            'has_certificate', 'year_certificate', 'due_certificate',\n",
    "                                            'Plinthes électriques', 'Convecteurs',\n",
    "                                            'Eau chaude', 'Air soufflé (pulsé)', 'Radiant', 'Thermopompe',\n",
    "                                            'Gaz naturel', 'Poêle à bois', 'Foyer au gaz',\n",
    "                                            'Porte de garage électrique',\n",
    "                                            'Buanderie', 'Climatiseur', 'Aspirateur centrale', 'Spa',\n",
    "                                            \"Détecteur d'incendie (relié)\", \"Détecteur d'incendie (non relié)\",\n",
    "                                            'Adapté pour personne à mobilité réduite', 'Interphone', 'Fournaise',\n",
    "                                            'Planchers chauffant', 'Ascenseur', \"Échangeur d'air\",\n",
    "                                            \"Système d'alarme\", 'Borne de recharge', 'has_reno', 'last_year_reno', 'water_access',\n",
    "                                            'min_price', 'max_price', 'fireplace_func', 'has_fireplace', 'has_pool', 'near_water', 'living_area'])\n"
   ]
  },
  {
   "cell_type": "code",
   "execution_count": null,
   "metadata": {},
   "outputs": [],
   "source": [
    "TSNE_kMeans_figure(quantitatives)"
   ]
  },
  {
   "cell_type": "code",
   "execution_count": null,
   "metadata": {},
   "outputs": [],
   "source": [
    "random_forest_features(quantitatives)"
   ]
  },
  {
   "cell_type": "code",
   "execution_count": null,
   "metadata": {},
   "outputs": [],
   "source": [
    "quantitatives[quantitatives['cluster_label'] == 0].describe()"
   ]
  },
  {
   "cell_type": "code",
   "execution_count": null,
   "metadata": {},
   "outputs": [],
   "source": [
    "quantitatives[quantitatives['cluster_label'] == 1].describe()"
   ]
  },
  {
   "cell_type": "code",
   "execution_count": null,
   "metadata": {},
   "outputs": [],
   "source": [
    "quantitatives[quantitatives['cluster_label'] == 3].describe()"
   ]
  },
  {
   "cell_type": "code",
   "execution_count": null,
   "metadata": {},
   "outputs": [],
   "source": [
    "quantitatives[quantitatives['cluster_label'] == 4].describe()"
   ]
  },
  {
   "cell_type": "code",
   "execution_count": null,
   "metadata": {},
   "outputs": [],
   "source": [
    "quantitatives[quantitatives['cluster_label'] == 2].describe()"
   ]
  },
  {
   "cell_type": "markdown",
   "metadata": {},
   "source": [
    "## Modelling:\n",
    "### Predicting price"
   ]
  },
  {
   "cell_type": "code",
   "execution_count": null,
   "metadata": {},
   "outputs": [],
   "source": [
    "# Using determinant features only\n",
    "quantitatives['price'] = df_engineered['price']\n",
    "df_feature_only = quantitatives.drop(columns=['land_eval', 'total_parking', 'cluster_label']).copy()\n",
    "result_df = main(df_feature_only)"
   ]
  },
  {
   "cell_type": "markdown",
   "metadata": {},
   "source": []
  },
  {
   "cell_type": "code",
   "execution_count": null,
   "metadata": {},
   "outputs": [],
   "source": [
    "result_df.head()"
   ]
  },
  {
   "cell_type": "markdown",
   "metadata": {},
   "source": [
    "## EDA Profiling"
   ]
  },
  {
   "cell_type": "code",
   "execution_count": null,
   "metadata": {},
   "outputs": [],
   "source": [
    "profile = df_feature_only.profile_report()\n",
    "profile.to_file(\"eda_report.html\")"
   ]
  },
  {
   "cell_type": "markdown",
   "metadata": {},
   "source": [
    "## Predicting price for customer listings"
   ]
  },
  {
   "cell_type": "code",
   "execution_count": null,
   "metadata": {},
   "outputs": [],
   "source": [
    "# Loading listings\n",
    "listings = load_listings_data()\n",
    "print(listings.shape[0])\n",
    "list_cleaned = clean_data(listings)\n",
    "list_engineered = feature_engineering(list_cleaned)\n",
    "print(list_engineered.shape[0])"
   ]
  },
  {
   "cell_type": "code",
   "execution_count": null,
   "metadata": {},
   "outputs": [],
   "source": [
    "\n",
    "# Price prediction\n",
    "results = predict_price(list_engineered, model, scaler)"
   ]
  }
 ],
 "metadata": {
  "kernelspec": {
   "display_name": "dev_lhl",
   "language": "python",
   "name": "dev_lhl"
  },
  "language_info": {
   "codemirror_mode": {
    "name": "ipython",
    "version": 3
   },
   "file_extension": ".py",
   "mimetype": "text/x-python",
   "name": "python",
   "nbconvert_exporter": "python",
   "pygments_lexer": "ipython3",
   "version": "3.11.3"
  }
 },
 "nbformat": 4,
 "nbformat_minor": 4
}
