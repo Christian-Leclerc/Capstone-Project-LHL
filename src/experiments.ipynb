{
 "cells": [
  {
   "cell_type": "code",
   "execution_count": 25,
   "metadata": {
    "tags": []
   },
   "outputs": [],
   "source": [
    "from modules.data_loading import load_train_data, load_test_data\n",
    "from modules.data_preprocessing import clean_data, feature_engineering\n",
    "import pandas as pd\n",
    "import numpy as np\n",
    "import ydata_profiling\n",
    "from sklearn.linear_model import LinearRegression\n",
    "from sklearn.model_selection import train_test_split\n",
    "from sklearn.metrics import mean_absolute_error, mean_squared_error\n",
    "from math import sqrt\n",
    "import re\n",
    "from datetime import datetime"
   ]
  },
  {
   "cell_type": "code",
   "execution_count": 2,
   "metadata": {
    "tags": []
   },
   "outputs": [
    {
     "data": {
      "text/html": [
       "<div>\n",
       "<style scoped>\n",
       "    .dataframe tbody tr th:only-of-type {\n",
       "        vertical-align: middle;\n",
       "    }\n",
       "\n",
       "    .dataframe tbody tr th {\n",
       "        vertical-align: top;\n",
       "    }\n",
       "\n",
       "    .dataframe thead th {\n",
       "        text-align: right;\n",
       "    }\n",
       "</style>\n",
       "<table border=\"1\" class=\"dataframe\">\n",
       "  <thead>\n",
       "    <tr style=\"text-align: right;\">\n",
       "      <th></th>\n",
       "      <th>ID</th>\n",
       "      <th>Prix</th>\n",
       "      <th>Un. rés.</th>\n",
       "      <th>Rev. brut. pot.</th>\n",
       "      <th>YearBuilt</th>\n",
       "      <th>Type de bâtiment</th>\n",
       "      <th>Dimensions du bâtiment</th>\n",
       "      <th>Éval. terrain</th>\n",
       "      <th>Superficie habitable</th>\n",
       "      <th>Éval. bâtiment</th>\n",
       "      <th>...</th>\n",
       "      <th>Foyers-Poêles</th>\n",
       "      <th>Équip./Serv.</th>\n",
       "      <th>Rénovations</th>\n",
       "      <th>Inclusions</th>\n",
       "      <th>Exclusions</th>\n",
       "      <th>Remarques - Courtier</th>\n",
       "      <th>Addenda</th>\n",
       "      <th>Nbre pièces</th>\n",
       "      <th>Nbre chambres (hors-sol + sous-sol)</th>\n",
       "      <th>Nbre salles de bains + salles d'eau</th>\n",
       "    </tr>\n",
       "  </thead>\n",
       "  <tbody>\n",
       "    <tr>\n",
       "      <th>0</th>\n",
       "      <td>1</td>\n",
       "      <td>1 000 000 $</td>\n",
       "      <td>3</td>\n",
       "      <td>46 200 $</td>\n",
       "      <td>Triplex dans le quartier Saint-Henri/Petite Bo...</td>\n",
       "      <td>En rangée</td>\n",
       "      <td>NaN</td>\n",
       "      <td>254 400 $</td>\n",
       "      <td>2 972,99 pc /    276,2 mc</td>\n",
       "      <td>755 700 $</td>\n",
       "      <td>...</td>\n",
       "      <td>NaN</td>\n",
       "      <td>Ascenseur(s), Buanderie</td>\n",
       "      <td>NaN</td>\n",
       "      <td>NaN</td>\n",
       "      <td>Effets personnels des locataires</td>\n",
       "      <td>Ne manquez pas cette incroyable opportunité de...</td>\n",
       "      <td>Bienvenue à St-Henri, un quartier dynamique co...</td>\n",
       "      <td>8.0</td>\n",
       "      <td>3.0</td>\n",
       "      <td>1+0</td>\n",
       "    </tr>\n",
       "    <tr>\n",
       "      <th>1</th>\n",
       "      <td>2</td>\n",
       "      <td>725 000 $</td>\n",
       "      <td>3</td>\n",
       "      <td>37 200 $</td>\n",
       "      <td>Triplex dans le quartier Saint-Henri/Petite Bo...</td>\n",
       "      <td>En rangée</td>\n",
       "      <td>25 X  p irr / 7,62 X m irr</td>\n",
       "      <td>254 400 $</td>\n",
       "      <td>2 895 pc /    268,95 mc</td>\n",
       "      <td>539 100 $</td>\n",
       "      <td>...</td>\n",
       "      <td>NaN</td>\n",
       "      <td>NaN</td>\n",
       "      <td>NaN</td>\n",
       "      <td>NaN</td>\n",
       "      <td>NaN</td>\n",
       "      <td>Triplex situé au coeur du très convoité secteu...</td>\n",
       "      <td>CARACTÉRISTIQUES :+Stationnement extérieur+Rev...</td>\n",
       "      <td>5.0</td>\n",
       "      <td>3.0</td>\n",
       "      <td>1+0</td>\n",
       "    </tr>\n",
       "    <tr>\n",
       "      <th>2</th>\n",
       "      <td>3</td>\n",
       "      <td>725 000 $</td>\n",
       "      <td>3</td>\n",
       "      <td>37 500 $</td>\n",
       "      <td>Triplex dans le quartier Saint-Henri/Petite Bo...</td>\n",
       "      <td>En rangée</td>\n",
       "      <td>25 X  p irr / 7,62 X m irr</td>\n",
       "      <td>254 400 $</td>\n",
       "      <td>2 897,64 pc /    269,2 mc</td>\n",
       "      <td>513 600 $</td>\n",
       "      <td>...</td>\n",
       "      <td>NaN</td>\n",
       "      <td>NaN</td>\n",
       "      <td>NaN</td>\n",
       "      <td>NaN</td>\n",
       "      <td>NaN</td>\n",
       "      <td>Triplex situé au coeur du très convoité secteu...</td>\n",
       "      <td>LOCALISATION+ Emplacement convoité, près de to...</td>\n",
       "      <td>5.0</td>\n",
       "      <td>3.0</td>\n",
       "      <td>1+0</td>\n",
       "    </tr>\n",
       "    <tr>\n",
       "      <th>3</th>\n",
       "      <td>4</td>\n",
       "      <td>942 000 $</td>\n",
       "      <td>3</td>\n",
       "      <td>54 660 $</td>\n",
       "      <td>Triplex dans le quartier Saint-Henri/Petite Bo...</td>\n",
       "      <td>En rangée</td>\n",
       "      <td>25 X 58,2 p irr / 7,62 X 17,73 m irr</td>\n",
       "      <td>254 400 $</td>\n",
       "      <td>NaN</td>\n",
       "      <td>939 400 $</td>\n",
       "      <td>...</td>\n",
       "      <td>NaN</td>\n",
       "      <td>Thermopompe murale</td>\n",
       "      <td>NaN</td>\n",
       "      <td>Cuisinière, réfrigérateur, lave-vaisselle, lav...</td>\n",
       "      <td>Cuisinière, réfrigérateur, lave-vaisselle, lav...</td>\n",
       "      <td>Triplex dans Saint-Henri, un secteur très rech...</td>\n",
       "      <td>Les visites débuteront le jeudi 17 novembre, 2...</td>\n",
       "      <td>5.0</td>\n",
       "      <td>3.0</td>\n",
       "      <td>1+0</td>\n",
       "    </tr>\n",
       "    <tr>\n",
       "      <th>4</th>\n",
       "      <td>5</td>\n",
       "      <td>732 000 $</td>\n",
       "      <td>2</td>\n",
       "      <td>32 400 $</td>\n",
       "      <td>Duplex dans le quartier Saint-Paul/Émard const...</td>\n",
       "      <td>En rangée</td>\n",
       "      <td>25 X 45 p / 7,62 X 13,72 m</td>\n",
       "      <td>149 400 $</td>\n",
       "      <td>2 292 pc /    212,93 mc</td>\n",
       "      <td>274 100 $</td>\n",
       "      <td>...</td>\n",
       "      <td>NaN</td>\n",
       "      <td>NaN</td>\n",
       "      <td>NaN</td>\n",
       "      <td>5933 : Fixtures, stores, rideaux et pôles, hot...</td>\n",
       "      <td>5933 : Tous les biens du locataires</td>\n",
       "      <td>Opportunité intéressante pour investisseurs ou...</td>\n",
       "      <td>Voici le 5933-5935, un duplex situé sur une ru...</td>\n",
       "      <td>5.0</td>\n",
       "      <td>3.0</td>\n",
       "      <td>1+0</td>\n",
       "    </tr>\n",
       "  </tbody>\n",
       "</table>\n",
       "<p>5 rows × 28 columns</p>\n",
       "</div>"
      ],
      "text/plain": [
       "   ID         Prix  Un. rés. Rev. brut. pot.  \\\n",
       "0   1  1 000 000 $         3        46 200 $   \n",
       "1   2    725 000 $         3        37 200 $   \n",
       "2   3    725 000 $         3        37 500 $   \n",
       "3   4    942 000 $         3        54 660 $   \n",
       "4   5    732 000 $         2        32 400 $   \n",
       "\n",
       "                                           YearBuilt Type de bâtiment  \\\n",
       "0  Triplex dans le quartier Saint-Henri/Petite Bo...        En rangée   \n",
       "1  Triplex dans le quartier Saint-Henri/Petite Bo...        En rangée   \n",
       "2  Triplex dans le quartier Saint-Henri/Petite Bo...        En rangée   \n",
       "3  Triplex dans le quartier Saint-Henri/Petite Bo...        En rangée   \n",
       "4  Duplex dans le quartier Saint-Paul/Émard const...        En rangée   \n",
       "\n",
       "                 Dimensions du bâtiment Éval. terrain  \\\n",
       "0                                   NaN     254 400 $   \n",
       "1            25 X  p irr / 7,62 X m irr     254 400 $   \n",
       "2            25 X  p irr / 7,62 X m irr     254 400 $   \n",
       "3  25 X 58,2 p irr / 7,62 X 17,73 m irr     254 400 $   \n",
       "4            25 X 45 p / 7,62 X 13,72 m     149 400 $   \n",
       "\n",
       "        Superficie habitable Éval. bâtiment  ... Foyers-Poêles  \\\n",
       "0  2 972,99 pc /    276,2 mc      755 700 $  ...           NaN   \n",
       "1    2 895 pc /    268,95 mc      539 100 $  ...           NaN   \n",
       "2  2 897,64 pc /    269,2 mc      513 600 $  ...           NaN   \n",
       "3                        NaN      939 400 $  ...           NaN   \n",
       "4    2 292 pc /    212,93 mc      274 100 $  ...           NaN   \n",
       "\n",
       "              Équip./Serv. Rénovations  \\\n",
       "0  Ascenseur(s), Buanderie         NaN   \n",
       "1                      NaN         NaN   \n",
       "2                      NaN         NaN   \n",
       "3       Thermopompe murale         NaN   \n",
       "4                      NaN         NaN   \n",
       "\n",
       "                                          Inclusions  \\\n",
       "0                                                NaN   \n",
       "1                                                NaN   \n",
       "2                                                NaN   \n",
       "3  Cuisinière, réfrigérateur, lave-vaisselle, lav...   \n",
       "4  5933 : Fixtures, stores, rideaux et pôles, hot...   \n",
       "\n",
       "                                          Exclusions  \\\n",
       "0                   Effets personnels des locataires   \n",
       "1                                                NaN   \n",
       "2                                                NaN   \n",
       "3  Cuisinière, réfrigérateur, lave-vaisselle, lav...   \n",
       "4                5933 : Tous les biens du locataires   \n",
       "\n",
       "                                Remarques - Courtier  \\\n",
       "0  Ne manquez pas cette incroyable opportunité de...   \n",
       "1  Triplex situé au coeur du très convoité secteu...   \n",
       "2  Triplex situé au coeur du très convoité secteu...   \n",
       "3  Triplex dans Saint-Henri, un secteur très rech...   \n",
       "4  Opportunité intéressante pour investisseurs ou...   \n",
       "\n",
       "                                             Addenda Nbre pièces  \\\n",
       "0  Bienvenue à St-Henri, un quartier dynamique co...         8.0   \n",
       "1  CARACTÉRISTIQUES :+Stationnement extérieur+Rev...         5.0   \n",
       "2  LOCALISATION+ Emplacement convoité, près de to...         5.0   \n",
       "3  Les visites débuteront le jeudi 17 novembre, 2...         5.0   \n",
       "4  Voici le 5933-5935, un duplex situé sur une ru...         5.0   \n",
       "\n",
       "  Nbre chambres (hors-sol + sous-sol) Nbre salles de bains + salles d'eau  \n",
       "0                                 3.0                                 1+0  \n",
       "1                                 3.0                                 1+0  \n",
       "2                                 3.0                                 1+0  \n",
       "3                                 3.0                                 1+0  \n",
       "4                                 3.0                                 1+0  \n",
       "\n",
       "[5 rows x 28 columns]"
      ]
     },
     "execution_count": 2,
     "metadata": {},
     "output_type": "execute_result"
    }
   ],
   "source": [
    "df=load_train_data()\n",
    "df_cleaned = clean_data(df)"
   ]
  },
  {
   "cell_type": "code",
   "execution_count": 14,
   "metadata": {
    "tags": []
   },
   "outputs": [
    {
     "data": {
      "text/plain": [
       "Index(['ID', 'price', 'units', 'income', 'YearBuilt', 'build_type',\n",
       "       'Dimensions du bâtiment', 'land_eval', 'Superficie habitable',\n",
       "       'build_eval', 'Dimensions du terrain', 'Cert. de localisation',\n",
       "       'Superficie du terrain', 'Plan d'eau', 'Piscine',\n",
       "       'Stationnement (total)', 'Chauffage', 'Eau (accès)', 'Foyers-Poêles',\n",
       "       'Équip./Serv.', 'renovations', 'inclusions', 'exclusions', 'remarks',\n",
       "       'addenda', 'rooms', 'Nbre chambres (hors-sol + sous-sol)',\n",
       "       'Nbre salles de bains + salles d'eau', 'year_built', 'living_area'],\n",
       "      dtype='object')"
      ]
     },
     "execution_count": 14,
     "metadata": {},
     "output_type": "execute_result"
    }
   ],
   "source": [
    "df.columns"
   ]
  },
  {
   "cell_type": "code",
   "execution_count": 3,
   "metadata": {
    "tags": []
   },
   "outputs": [],
   "source": [
    "# Column naming\n",
    "df.rename(columns={\n",
    "    'Prix': 'price',\n",
    "    'Un. rés.': 'units',\n",
    "    'Rev. brut. pot.': 'income',\n",
    "    'Type de bâtiment':'build_type',\n",
    "    'Éval. bâtiment': 'build_eval',\n",
    "    'Éval. terrain': 'land_eval',\n",
    "    'Remarques - Courtier': 'remarks',\n",
    "    'Rénovations': 'renovations',\n",
    "    'Inclusions': 'inclusions',\n",
    "    'Exclusions': 'exclusions',\n",
    "    'Addenda': 'addenda',\n",
    "    'Nbre pièces': 'rooms'\n",
    "}, inplace=True)"
   ]
  },
  {
   "cell_type": "code",
   "execution_count": 4,
   "metadata": {
    "tags": []
   },
   "outputs": [],
   "source": [
    "# Datatypes\n",
    "for col in ['price', 'income', 'build_eval', 'land_eval']:\n",
    "    df[col] = df[col].str.replace('[\\$, ]', '', regex=True).fillna(0).astype(int)"
   ]
  },
  {
   "cell_type": "code",
   "execution_count": 5,
   "metadata": {
    "tags": []
   },
   "outputs": [],
   "source": [
    "# Remove outliers in income\n",
    "df = df[df['income'] >= 2000]"
   ]
  },
  {
   "cell_type": "code",
   "execution_count": 6,
   "metadata": {
    "tags": []
   },
   "outputs": [
    {
     "name": "stdout",
     "output_type": "stream",
     "text": [
      "Triplex dans le quartier Saint-Henri/Petite Bourgogne construit en 1900\n"
     ]
    }
   ],
   "source": [
    "print(str(df['YearBuilt'].iloc[0]))"
   ]
  },
  {
   "cell_type": "code",
   "execution_count": 7,
   "metadata": {
    "tags": []
   },
   "outputs": [
    {
     "data": {
      "text/plain": [
       "array([1900, 1910, 1930, 1915, 1923, 1953, 1952, 1931, 1958, 1980, 1955,\n",
       "       1956, 1954, 1885, 1951, 1993, 1949, 1928, 1965, 1957, 1962, 1875,\n",
       "       1948, 1964, 1880, 1981, 1950, 1959, 1968, 1963, 1946, 1922, 1937,\n",
       "       1941, 1967, 1920, 1927, 1903, 1925, 1960, 1961, 1944, 1985, 1929,\n",
       "       1966, 1970, 2001, 1932, 1924, 1890, 1934, 1999, 1987, 1945, 1947,\n",
       "       1909, 1943, 1914, 1972, 1988, 1942, 1926, 1996, 1971, 1917, 1936,\n",
       "       2010, 1969, 1974, 1975, 1978, 1976, 1973, 1940, 1902, 1912, 1905,\n",
       "       1933, 1911, 1907, 1870, 1939, 1935, 1984, 2019, 1991, 1986, 1977,\n",
       "       2000, 1989, 1979, 2020, 2008, 2009, 2017, 2004, 1892, 1895, 1918,\n",
       "       1908, 1921, 1990, 1983, 1992, 1916, 1919, 1982, 1997])"
      ]
     },
     "execution_count": 7,
     "metadata": {},
     "output_type": "execute_result"
    }
   ],
   "source": [
    "# Extract year of construction\n",
    "def extract_year(row):\n",
    "    year_match = re.search(r'\\b\\d{4}\\b', row)\n",
    "    return int(year_match.group()) if year_match else None\n",
    "\n",
    "# Extract year and create a new column\n",
    "df['year_built'] = df['YearBuilt'].apply(extract_year)\n",
    "\n",
    "# Drop rows where 'year_built' is None\n",
    "df.dropna(subset=['year_built'], inplace=True)\n",
    "\n",
    "# Convert 'year_built' to integer\n",
    "df['year_built'] = df['year_built'].astype(int)\n",
    "df['year_built'].unique()"
   ]
  },
  {
   "cell_type": "code",
   "execution_count": 9,
   "metadata": {
    "tags": []
   },
   "outputs": [
    {
     "data": {
      "text/plain": [
       "1779"
      ]
     },
     "execution_count": 9,
     "metadata": {},
     "output_type": "execute_result"
    }
   ],
   "source": [
    "df.shape[0]"
   ]
  },
  {
   "cell_type": "code",
   "execution_count": 10,
   "metadata": {
    "tags": []
   },
   "outputs": [],
   "source": [
    "# Filling missing value for living_area using building dimension\n",
    "def extract_living_area(row):\n",
    "    # Extract living area if available\n",
    "    if pd.notna(row['Superficie habitable']):\n",
    "        match = re.search(r'([\\d\\s,]+)', row['Superficie habitable'].split('/')[0])\n",
    "        if match and match.group(1).strip():\n",
    "            return float(match.group(1).replace(',', '.').replace(' ', ''))\n",
    "    \n",
    "    # If living area is not available, use dimensions to calculate it\n",
    "    if pd.notna(row['Dimensions du bâtiment']):\n",
    "        match = re.findall(r'(\\d+,\\d+|\\d+)', row['Dimensions du bâtiment'].split('/')[0])\n",
    "        if len(match) >= 2:\n",
    "            return float(match[0].replace(',', '.')) * float(match[1].replace(',', '.'))\n",
    "    \n",
    "    return np.nan\n",
    "\n",
    "# Create the 'living_area' column\n",
    "df['living_area'] = df.apply(extract_living_area, axis=1)"
   ]
  },
  {
   "cell_type": "code",
   "execution_count": 13,
   "metadata": {
    "tags": []
   },
   "outputs": [
    {
     "data": {
      "text/plain": [
       "1758"
      ]
     },
     "execution_count": 13,
     "metadata": {},
     "output_type": "execute_result"
    }
   ],
   "source": [
    "df.shape[0]"
   ]
  },
  {
   "cell_type": "code",
   "execution_count": 12,
   "metadata": {
    "tags": []
   },
   "outputs": [],
   "source": [
    "# Drop rows where 'living_area' is NaN\n",
    "df.dropna(subset=['living_area'], inplace=True)"
   ]
  },
  {
   "cell_type": "code",
   "execution_count": 15,
   "metadata": {
    "tags": []
   },
   "outputs": [],
   "source": [
    "# Filling missing value for yard_area using land dimension\n",
    "def extract_yard_area(row):\n",
    "    # Extract yard area if available\n",
    "    if pd.notna(row['Superficie du terrain']):\n",
    "        match = re.search(r'([\\d\\s,]+)', row['Superficie du terrain'].split('/')[0])\n",
    "        if match and match.group(1).strip():\n",
    "            return float(match.group(1).replace(',', '.').replace(' ', ''))\n",
    "    \n",
    "    # If living area is not available, use dimensions to calculate it\n",
    "    if pd.notna(row['Dimensions du terrain']):\n",
    "        match = re.findall(r'(\\d+,\\d+|\\d+)', row['Dimensions du terrain'].split('/')[0])\n",
    "        if len(match) >= 2:\n",
    "            return float(match[0].replace(',', '.')) * float(match[1].replace(',', '.'))\n",
    "    \n",
    "    return np.nan\n",
    "\n",
    "# Create the 'living_area' column\n",
    "df['yard_area'] = df.apply(extract_yard_area, axis=1)"
   ]
  },
  {
   "cell_type": "code",
   "execution_count": 20,
   "metadata": {
    "tags": []
   },
   "outputs": [
    {
     "data": {
      "text/plain": [
       "1758"
      ]
     },
     "execution_count": 20,
     "metadata": {},
     "output_type": "execute_result"
    }
   ],
   "source": [
    "df.shape[0]"
   ]
  },
  {
   "cell_type": "code",
   "execution_count": 20,
   "metadata": {
    "tags": []
   },
   "outputs": [
    {
     "data": {
      "text/plain": [
       "1758"
      ]
     },
     "execution_count": 20,
     "metadata": {},
     "output_type": "execute_result"
    }
   ],
   "source": [
    "# Drop rows where 'yard_area' is NaN\n",
    "df.dropna(subset=['yard_area'], inplace=True)\n",
    "df.shape[0]"
   ]
  },
  {
   "cell_type": "code",
   "execution_count": 28,
   "metadata": {
    "tags": []
   },
   "outputs": [],
   "source": [
    "# Extract certificate boolean and year (and overdue status)\n",
    "def extract_certificate_info(row):\n",
    "    has_certificate = 0\n",
    "    year_certificate = 0\n",
    "    due_certificate = 0\n",
    "    \n",
    "    if 'Oui' in row:\n",
    "        has_certificate = 1\n",
    "        match = re.search(r'\\((\\d{4})\\)', row)\n",
    "        if match:\n",
    "            year_certificate = int(match.group(1))\n",
    "            current_year = datetime.now().year\n",
    "            if current_year - year_certificate > 10:\n",
    "                due_certificate = 1\n",
    "                \n",
    "    return pd.Series([has_certificate, year_certificate, due_certificate], index=['has_certificate', 'year_certificate', 'due_certificate'])\n",
    "\n",
    "# Create new columns\n",
    "df[['has_certificate', 'year_certificate', 'due_certificate']] = df['Cert. de localisation'].apply(extract_certificate_info)"
   ]
  },
  {
   "cell_type": "code",
   "execution_count": 33,
   "metadata": {
    "tags": []
   },
   "outputs": [
    {
     "data": {
      "text/plain": [
       "array([nan, 'Fleuve St-Laurent', 'Canal de Lachine', 'Canal Lachine',\n",
       "       'ville', 'Rivière des Prairies', 'VILLE', 'municipal',\n",
       "       'St Laurent', 'St-Lawrence River', 'Fleuve Saint-Laurent', 'Ville',\n",
       "       'none', 'rue municipal', 'Municipalité', 'Riviere-des-Prairies',\n",
       "       'FLEUVE ST-LAURENT', 'St Lawrence', 'City', 'louis veuillot',\n",
       "       'Municipality', \"Canal de l'aqueduc\", 'St-Laurent River',\n",
       "       'Lachine canal', 'St-Lawrence'], dtype=object)"
      ]
     },
     "execution_count": 33,
     "metadata": {},
     "output_type": "execute_result"
    }
   ],
   "source": [
    "df['Plan d\\'eau'].unique()"
   ]
  },
  {
   "cell_type": "code",
   "execution_count": 41,
   "metadata": {
    "tags": []
   },
   "outputs": [],
   "source": [
    "# Standard names list\n",
    "standard_names = ['Fleuve St-Laurent', 'Canal de Lachine', 'Rivière des Prairies', 'Louis Veuillot', 'Municipal', 'Ville']\n",
    "\n",
    "# Mapping of similar or translated terms to standard names\n",
    "mapping = {\n",
    "    'fleuve st-laurent': 'Fleuve St-Laurent',\n",
    "    'st-lawrence river': 'Fleuve St-Laurent',\n",
    "    'st-laurent river': 'Fleuve St-Laurent',\n",
    "    'st lawrence': 'Fleuve St-Laurent',\n",
    "    'st-lawrence': 'Fleuve St-Laurent',\n",
    "    'canal de lachine': 'Canal de Lachine',\n",
    "    'canal lachine': 'Canal de Lachine',\n",
    "    'canal de l\\'aqueduc': 'Canal de Lachine',\n",
    "    'Lachine canal': 'Canal de Lachine',\n",
    "    'lachine canal': 'Canal de Lachine',\n",
    "    'rivière des prairies': 'Rivière des Prairies',\n",
    "    'rivière-des-prairies': 'Rivière des Prairies',\n",
    "    'municipal': 'Municipal',\n",
    "    'rue municipal': 'Municipal',\n",
    "    'municipality': 'Municipal',\n",
    "    'municipalité': 'Municipal',\n",
    "    'city': 'Ville',\n",
    "    'ville': 'Ville',\n",
    "    'louis veuillot': 'Louis Veuillot'\n",
    "}\n",
    "\n",
    "def standardize_water(row):\n",
    "    near_water = 0\n",
    "    water_name = None\n",
    "    \n",
    "    if pd.notna(row):\n",
    "        row_lower = row.lower()\n",
    "        if row_lower != 'none':\n",
    "            near_water = 1\n",
    "            for key, value in mapping.items():\n",
    "                if key in row_lower:\n",
    "                    water_name = value\n",
    "                    break\n",
    "                \n",
    "    return pd.Series([near_water, water_name], index=['near_water', 'water_name'])\n",
    "\n",
    "# Create new columns\n",
    "df[['near_water', 'water_name']] = df['Plan d\\'eau'].apply(standardize_water)\n",
    "# Cast to appropriate data types\n",
    "df['near_water'] = df['near_water'].astype(int)"
   ]
  },
  {
   "cell_type": "code",
   "execution_count": 42,
   "metadata": {
    "tags": []
   },
   "outputs": [
    {
     "data": {
      "text/plain": [
       "array([nan, 'Fleuve St-Laurent', 'Canal de Lachine', 'Ville',\n",
       "       'Rivière des Prairies', 'Municipal', 'Louis Veuillot'],\n",
       "      dtype=object)"
      ]
     },
     "execution_count": 42,
     "metadata": {},
     "output_type": "execute_result"
    }
   ],
   "source": [
    "df['water_name'].unique()"
   ]
  },
  {
   "cell_type": "code",
   "execution_count": null,
   "metadata": {},
   "outputs": [],
   "source": []
  },
  {
   "cell_type": "code",
   "execution_count": null,
   "metadata": {},
   "outputs": [],
   "source": []
  },
  {
   "cell_type": "code",
   "execution_count": null,
   "metadata": {},
   "outputs": [],
   "source": []
  },
  {
   "cell_type": "markdown",
   "metadata": {},
   "source": [
    "EDA Profiling"
   ]
  },
  {
   "cell_type": "code",
   "execution_count": 4,
   "metadata": {},
   "outputs": [
    {
     "data": {
      "application/vnd.jupyter.widget-view+json": {
       "model_id": "3f0d96b0ea884e22870ad8f1fa2be7a8",
       "version_major": 2,
       "version_minor": 0
      },
      "text/plain": [
       "Summarize dataset:   0%|          | 0/5 [00:00<?, ?it/s]"
      ]
     },
     "metadata": {},
     "output_type": "display_data"
    },
    {
     "data": {
      "application/vnd.jupyter.widget-view+json": {
       "model_id": "3a66b782e5db470ab59c41ed7924701d",
       "version_major": 2,
       "version_minor": 0
      },
      "text/plain": [
       "Generate report structure:   0%|          | 0/1 [00:00<?, ?it/s]"
      ]
     },
     "metadata": {},
     "output_type": "display_data"
    },
    {
     "data": {
      "application/vnd.jupyter.widget-view+json": {
       "model_id": "23e31ac3993a4a4fbf964a868917bb6e",
       "version_major": 2,
       "version_minor": 0
      },
      "text/plain": [
       "Render HTML:   0%|          | 0/1 [00:00<?, ?it/s]"
      ]
     },
     "metadata": {},
     "output_type": "display_data"
    },
    {
     "data": {
      "application/vnd.jupyter.widget-view+json": {
       "model_id": "5be19cdc30e04a22a832982106d4bb96",
       "version_major": 2,
       "version_minor": 0
      },
      "text/plain": [
       "Export report to file:   0%|          | 0/1 [00:00<?, ?it/s]"
      ]
     },
     "metadata": {},
     "output_type": "display_data"
    }
   ],
   "source": [
    "profile = df.profile_report()\n",
    "profile.to_file(\"eda_report.html\")"
   ]
  }
 ],
 "metadata": {
  "kernelspec": {
   "display_name": "dev_lhl",
   "language": "python",
   "name": "dev_lhl"
  },
  "language_info": {
   "codemirror_mode": {
    "name": "ipython",
    "version": 3
   },
   "file_extension": ".py",
   "mimetype": "text/x-python",
   "name": "python",
   "nbconvert_exporter": "python",
   "pygments_lexer": "ipython3",
   "version": "3.11.3"
  }
 },
 "nbformat": 4,
 "nbformat_minor": 4
}
