{
 "cells": [
  {
   "cell_type": "code",
   "execution_count": 1,
   "metadata": {
    "tags": []
   },
   "outputs": [],
   "source": [
    "from modules.data_loading import load_train_data, load_test_data\n",
    "from modules.data_preprocessing import clean_data, feature_engineering\n",
    "import pandas as pd\n",
    "import numpy as np\n",
    "import ydata_profiling\n",
    "from sklearn.linear_model import LinearRegression\n",
    "from sklearn.model_selection import train_test_split\n",
    "from sklearn.metrics import mean_absolute_error, mean_squared_error\n",
    "from math import sqrt\n",
    "import re\n",
    "from datetime import datetime"
   ]
  },
  {
   "cell_type": "code",
   "execution_count": 2,
   "metadata": {
    "tags": []
   },
   "outputs": [
    {
     "data": {
      "text/plain": [
       "1758"
      ]
     },
     "execution_count": 2,
     "metadata": {},
     "output_type": "execute_result"
    }
   ],
   "source": [
    "df=load_train_data()\n",
    "df_cleaned = clean_data(df)\n",
    "df_engineered = feature_engineering(df_cleaned)\n",
    "df_engineered.shape[0]"
   ]
  },
  {
   "cell_type": "code",
   "execution_count": 3,
   "metadata": {},
   "outputs": [
    {
     "data": {
      "text/plain": [
       "Index(['ID', 'price', 'units', 'income', 'YearBuilt', 'build_type',\n",
       "       'Dimensions du bâtiment', 'land_eval', 'Superficie habitable',\n",
       "       'build_eval', 'Dimensions du terrain', 'Cert. de localisation',\n",
       "       'Superficie du terrain', 'Plan d'eau', 'Piscine',\n",
       "       'Stationnement (total)', 'Chauffage', 'Eau (accès)', 'Foyers-Poêles',\n",
       "       'Équip./Serv.', 'renovations', 'inclusions', 'exclusions', 'remarks',\n",
       "       'addenda', 'rooms', 'Nbre chambres (hors-sol + sous-sol)',\n",
       "       'Nbre salles de bains + salles d'eau', 'year_built', 'living_area',\n",
       "       'yard_area', 'has_certificate', 'year_certificate', 'due_certificate',\n",
       "       'near_water', 'water_name', 'has_pool', 'pool_type', 'total_parking',\n",
       "       'Plinthes électriques', 'Convecteurs', 'Eau chaude',\n",
       "       'Air soufflé (pulsé)', 'Radiant', 'Thermopompe', 'Gaz naturel',\n",
       "       'Poêle à bois', 'Foyer au gaz'],\n",
       "      dtype='object')"
      ]
     },
     "execution_count": 3,
     "metadata": {},
     "output_type": "execute_result"
    }
   ],
   "source": [
    "df_engineered.head()"
   ]
  },
  {
   "cell_type": "code",
   "execution_count": 15,
   "metadata": {},
   "outputs": [
    {
     "data": {
      "text/plain": [
       "array(['1+0', '2+0', '1+1', '2+1', '3+0', '1+2', '0+1', '2+5', nan, '3+1'],\n",
       "      dtype=object)"
      ]
     },
     "execution_count": 15,
     "metadata": {},
     "output_type": "execute_result"
    }
   ],
   "source": [
    "df_engineered[\"Nbre salles de bains + salles d'eau\"].unique()"
   ]
  },
  {
   "cell_type": "code",
   "execution_count": null,
   "metadata": {},
   "outputs": [],
   "source": []
  },
  {
   "cell_type": "code",
   "execution_count": null,
   "metadata": {},
   "outputs": [],
   "source": []
  },
  {
   "cell_type": "markdown",
   "metadata": {},
   "source": [
    "EDA Profiling"
   ]
  },
  {
   "cell_type": "code",
   "execution_count": null,
   "metadata": {},
   "outputs": [],
   "source": [
    "profile = df.profile_report()\n",
    "profile.to_file(\"eda_report.html\")"
   ]
  }
 ],
 "metadata": {
  "kernelspec": {
   "display_name": "dev_lhl",
   "language": "python",
   "name": "dev_lhl"
  },
  "language_info": {
   "codemirror_mode": {
    "name": "ipython",
    "version": 3
   },
   "file_extension": ".py",
   "mimetype": "text/x-python",
   "name": "python",
   "nbconvert_exporter": "python",
   "pygments_lexer": "ipython3",
   "version": "3.11.3"
  }
 },
 "nbformat": 4,
 "nbformat_minor": 4
}
