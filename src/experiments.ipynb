{
 "cells": [
  {
   "cell_type": "code",
   "execution_count": 1,
   "metadata": {
    "tags": []
   },
   "outputs": [],
   "source": [
    "from modules.data_loading import load_train_data, load_test_data\n",
    "import pandas as pd\n",
    "import numpy as np\n",
    "import ydata_profiling"
   ]
  },
  {
   "cell_type": "code",
   "execution_count": 2,
   "metadata": {
    "tags": []
   },
   "outputs": [
    {
     "data": {
      "text/html": [
       "<div>\n",
       "<style scoped>\n",
       "    .dataframe tbody tr th:only-of-type {\n",
       "        vertical-align: middle;\n",
       "    }\n",
       "\n",
       "    .dataframe tbody tr th {\n",
       "        vertical-align: top;\n",
       "    }\n",
       "\n",
       "    .dataframe thead th {\n",
       "        text-align: right;\n",
       "    }\n",
       "</style>\n",
       "<table border=\"1\" class=\"dataframe\">\n",
       "  <thead>\n",
       "    <tr style=\"text-align: right;\">\n",
       "      <th></th>\n",
       "      <th>Unnamed: 0</th>\n",
       "      <th>ID</th>\n",
       "      <th>Prix</th>\n",
       "      <th>Un. rés.</th>\n",
       "      <th>Rev. brut. pot.</th>\n",
       "      <th>YearBuilt</th>\n",
       "      <th>Type de bâtiment</th>\n",
       "      <th>Dimensions du bâtiment</th>\n",
       "      <th>Éval. terrain</th>\n",
       "      <th>Superficie habitable</th>\n",
       "      <th>...</th>\n",
       "      <th>Foyers-Poêles</th>\n",
       "      <th>Équip./Serv.</th>\n",
       "      <th>Rénovations</th>\n",
       "      <th>Inclusions</th>\n",
       "      <th>Exclusions</th>\n",
       "      <th>Remarques - Courtier</th>\n",
       "      <th>Addenda</th>\n",
       "      <th>Nbre pièces</th>\n",
       "      <th>Nbre chambres (hors-sol + sous-sol)</th>\n",
       "      <th>Nbre salles de bains + salles d'eau</th>\n",
       "    </tr>\n",
       "  </thead>\n",
       "  <tbody>\n",
       "    <tr>\n",
       "      <th>0</th>\n",
       "      <td>0</td>\n",
       "      <td>1</td>\n",
       "      <td>1 000 000 $</td>\n",
       "      <td>3</td>\n",
       "      <td>46 200 $</td>\n",
       "      <td>Triplex dans le quartier Saint-Henri/Petite Bo...</td>\n",
       "      <td>En rangée</td>\n",
       "      <td>NaN</td>\n",
       "      <td>254 400 $</td>\n",
       "      <td>2 972,99 pc /    276,2 mc</td>\n",
       "      <td>...</td>\n",
       "      <td>NaN</td>\n",
       "      <td>Ascenseur(s), Buanderie</td>\n",
       "      <td>NaN</td>\n",
       "      <td>NaN</td>\n",
       "      <td>Effets personnels des locataires</td>\n",
       "      <td>Ne manquez pas cette incroyable opportunité de...</td>\n",
       "      <td>Bienvenue à St-Henri, un quartier dynamique co...</td>\n",
       "      <td>8.0</td>\n",
       "      <td>3.0</td>\n",
       "      <td>1+0</td>\n",
       "    </tr>\n",
       "    <tr>\n",
       "      <th>1</th>\n",
       "      <td>1</td>\n",
       "      <td>2</td>\n",
       "      <td>725 000 $</td>\n",
       "      <td>3</td>\n",
       "      <td>37 200 $</td>\n",
       "      <td>Triplex dans le quartier Saint-Henri/Petite Bo...</td>\n",
       "      <td>En rangée</td>\n",
       "      <td>25 X  p irr / 7,62 X m irr</td>\n",
       "      <td>254 400 $</td>\n",
       "      <td>2 895 pc /    268,95 mc</td>\n",
       "      <td>...</td>\n",
       "      <td>NaN</td>\n",
       "      <td>NaN</td>\n",
       "      <td>NaN</td>\n",
       "      <td>NaN</td>\n",
       "      <td>NaN</td>\n",
       "      <td>Triplex situé au coeur du très convoité secteu...</td>\n",
       "      <td>CARACTÉRISTIQUES :+Stationnement extérieur+Rev...</td>\n",
       "      <td>5.0</td>\n",
       "      <td>3.0</td>\n",
       "      <td>1+0</td>\n",
       "    </tr>\n",
       "    <tr>\n",
       "      <th>2</th>\n",
       "      <td>2</td>\n",
       "      <td>3</td>\n",
       "      <td>725 000 $</td>\n",
       "      <td>3</td>\n",
       "      <td>37 500 $</td>\n",
       "      <td>Triplex dans le quartier Saint-Henri/Petite Bo...</td>\n",
       "      <td>En rangée</td>\n",
       "      <td>25 X  p irr / 7,62 X m irr</td>\n",
       "      <td>254 400 $</td>\n",
       "      <td>2 897,64 pc /    269,2 mc</td>\n",
       "      <td>...</td>\n",
       "      <td>NaN</td>\n",
       "      <td>NaN</td>\n",
       "      <td>NaN</td>\n",
       "      <td>NaN</td>\n",
       "      <td>NaN</td>\n",
       "      <td>Triplex situé au coeur du très convoité secteu...</td>\n",
       "      <td>LOCALISATION+ Emplacement convoité, près de to...</td>\n",
       "      <td>5.0</td>\n",
       "      <td>3.0</td>\n",
       "      <td>1+0</td>\n",
       "    </tr>\n",
       "    <tr>\n",
       "      <th>3</th>\n",
       "      <td>3</td>\n",
       "      <td>4</td>\n",
       "      <td>942 000 $</td>\n",
       "      <td>3</td>\n",
       "      <td>54 660 $</td>\n",
       "      <td>Triplex dans le quartier Saint-Henri/Petite Bo...</td>\n",
       "      <td>En rangée</td>\n",
       "      <td>25 X 58,2 p irr / 7,62 X 17,73 m irr</td>\n",
       "      <td>254 400 $</td>\n",
       "      <td>NaN</td>\n",
       "      <td>...</td>\n",
       "      <td>NaN</td>\n",
       "      <td>Thermopompe murale</td>\n",
       "      <td>NaN</td>\n",
       "      <td>Cuisinière, réfrigérateur, lave-vaisselle, lav...</td>\n",
       "      <td>Cuisinière, réfrigérateur, lave-vaisselle, lav...</td>\n",
       "      <td>Triplex dans Saint-Henri, un secteur très rech...</td>\n",
       "      <td>Les visites débuteront le jeudi 17 novembre, 2...</td>\n",
       "      <td>5.0</td>\n",
       "      <td>3.0</td>\n",
       "      <td>1+0</td>\n",
       "    </tr>\n",
       "    <tr>\n",
       "      <th>4</th>\n",
       "      <td>4</td>\n",
       "      <td>5</td>\n",
       "      <td>732 000 $</td>\n",
       "      <td>2</td>\n",
       "      <td>32 400 $</td>\n",
       "      <td>Duplex dans le quartier Saint-Paul/Émard const...</td>\n",
       "      <td>En rangée</td>\n",
       "      <td>25 X 45 p / 7,62 X 13,72 m</td>\n",
       "      <td>149 400 $</td>\n",
       "      <td>2 292 pc /    212,93 mc</td>\n",
       "      <td>...</td>\n",
       "      <td>NaN</td>\n",
       "      <td>NaN</td>\n",
       "      <td>NaN</td>\n",
       "      <td>5933 : Fixtures, stores, rideaux et pôles, hot...</td>\n",
       "      <td>5933 : Tous les biens du locataires</td>\n",
       "      <td>Opportunité intéressante pour investisseurs ou...</td>\n",
       "      <td>Voici le 5933-5935, un duplex situé sur une ru...</td>\n",
       "      <td>5.0</td>\n",
       "      <td>3.0</td>\n",
       "      <td>1+0</td>\n",
       "    </tr>\n",
       "  </tbody>\n",
       "</table>\n",
       "<p>5 rows × 29 columns</p>\n",
       "</div>"
      ],
      "text/plain": [
       "   Unnamed: 0  ID         Prix  Un. rés. Rev. brut. pot.  \\\n",
       "0           0   1  1 000 000 $         3        46 200 $   \n",
       "1           1   2    725 000 $         3        37 200 $   \n",
       "2           2   3    725 000 $         3        37 500 $   \n",
       "3           3   4    942 000 $         3        54 660 $   \n",
       "4           4   5    732 000 $         2        32 400 $   \n",
       "\n",
       "                                           YearBuilt Type de bâtiment  \\\n",
       "0  Triplex dans le quartier Saint-Henri/Petite Bo...        En rangée   \n",
       "1  Triplex dans le quartier Saint-Henri/Petite Bo...        En rangée   \n",
       "2  Triplex dans le quartier Saint-Henri/Petite Bo...        En rangée   \n",
       "3  Triplex dans le quartier Saint-Henri/Petite Bo...        En rangée   \n",
       "4  Duplex dans le quartier Saint-Paul/Émard const...        En rangée   \n",
       "\n",
       "                 Dimensions du bâtiment Éval. terrain  \\\n",
       "0                                   NaN     254 400 $   \n",
       "1            25 X  p irr / 7,62 X m irr     254 400 $   \n",
       "2            25 X  p irr / 7,62 X m irr     254 400 $   \n",
       "3  25 X 58,2 p irr / 7,62 X 17,73 m irr     254 400 $   \n",
       "4            25 X 45 p / 7,62 X 13,72 m     149 400 $   \n",
       "\n",
       "        Superficie habitable  ... Foyers-Poêles             Équip./Serv.  \\\n",
       "0  2 972,99 pc /    276,2 mc  ...           NaN  Ascenseur(s), Buanderie   \n",
       "1    2 895 pc /    268,95 mc  ...           NaN                      NaN   \n",
       "2  2 897,64 pc /    269,2 mc  ...           NaN                      NaN   \n",
       "3                        NaN  ...           NaN       Thermopompe murale   \n",
       "4    2 292 pc /    212,93 mc  ...           NaN                      NaN   \n",
       "\n",
       "  Rénovations                                         Inclusions  \\\n",
       "0         NaN                                                NaN   \n",
       "1         NaN                                                NaN   \n",
       "2         NaN                                                NaN   \n",
       "3         NaN  Cuisinière, réfrigérateur, lave-vaisselle, lav...   \n",
       "4         NaN  5933 : Fixtures, stores, rideaux et pôles, hot...   \n",
       "\n",
       "                                          Exclusions  \\\n",
       "0                   Effets personnels des locataires   \n",
       "1                                                NaN   \n",
       "2                                                NaN   \n",
       "3  Cuisinière, réfrigérateur, lave-vaisselle, lav...   \n",
       "4                5933 : Tous les biens du locataires   \n",
       "\n",
       "                                Remarques - Courtier  \\\n",
       "0  Ne manquez pas cette incroyable opportunité de...   \n",
       "1  Triplex situé au coeur du très convoité secteu...   \n",
       "2  Triplex situé au coeur du très convoité secteu...   \n",
       "3  Triplex dans Saint-Henri, un secteur très rech...   \n",
       "4  Opportunité intéressante pour investisseurs ou...   \n",
       "\n",
       "                                             Addenda Nbre pièces  \\\n",
       "0  Bienvenue à St-Henri, un quartier dynamique co...         8.0   \n",
       "1  CARACTÉRISTIQUES :+Stationnement extérieur+Rev...         5.0   \n",
       "2  LOCALISATION+ Emplacement convoité, près de to...         5.0   \n",
       "3  Les visites débuteront le jeudi 17 novembre, 2...         5.0   \n",
       "4  Voici le 5933-5935, un duplex situé sur une ru...         5.0   \n",
       "\n",
       "  Nbre chambres (hors-sol + sous-sol) Nbre salles de bains + salles d'eau  \n",
       "0                                 3.0                                 1+0  \n",
       "1                                 3.0                                 1+0  \n",
       "2                                 3.0                                 1+0  \n",
       "3                                 3.0                                 1+0  \n",
       "4                                 3.0                                 1+0  \n",
       "\n",
       "[5 rows x 29 columns]"
      ]
     },
     "execution_count": 2,
     "metadata": {},
     "output_type": "execute_result"
    }
   ],
   "source": [
    "df = load_train_data()\n",
    "df.head()"
   ]
  },
  {
   "cell_type": "code",
   "execution_count": 3,
   "metadata": {},
   "outputs": [
    {
     "data": {
      "text/plain": [
       "Index(['Dimensions du bâtiment', 'Éval. terrain', 'Superficie habitable',\n",
       "       'Éval. bâtiment', 'Dimensions du terrain', 'Superficie du terrain',\n",
       "       'Plan d'eau', 'Piscine', 'Stationnement (total)', 'Chauffage',\n",
       "       'Eau (accès)', 'Foyers-Poêles', 'Équip./Serv.', 'Rénovations',\n",
       "       'Inclusions', 'Exclusions', 'Remarques - Courtier', 'Addenda',\n",
       "       'Nbre pièces', 'Nbre chambres (hors-sol + sous-sol)',\n",
       "       'Nbre salles de bains + salles d'eau', 'Source'],\n",
       "      dtype='object')"
      ]
     },
     "execution_count": 3,
     "metadata": {},
     "output_type": "execute_result"
    }
   ],
   "source": [
    "null_cols = df.columns[df.isnull().any()]\n",
    "null_cols"
   ]
  },
  {
   "cell_type": "code",
   "execution_count": 4,
   "metadata": {},
   "outputs": [
    {
     "data": {
      "application/vnd.jupyter.widget-view+json": {
       "model_id": "3f0d96b0ea884e22870ad8f1fa2be7a8",
       "version_major": 2,
       "version_minor": 0
      },
      "text/plain": [
       "Summarize dataset:   0%|          | 0/5 [00:00<?, ?it/s]"
      ]
     },
     "metadata": {},
     "output_type": "display_data"
    },
    {
     "data": {
      "application/vnd.jupyter.widget-view+json": {
       "model_id": "3a66b782e5db470ab59c41ed7924701d",
       "version_major": 2,
       "version_minor": 0
      },
      "text/plain": [
       "Generate report structure:   0%|          | 0/1 [00:00<?, ?it/s]"
      ]
     },
     "metadata": {},
     "output_type": "display_data"
    },
    {
     "data": {
      "application/vnd.jupyter.widget-view+json": {
       "model_id": "23e31ac3993a4a4fbf964a868917bb6e",
       "version_major": 2,
       "version_minor": 0
      },
      "text/plain": [
       "Render HTML:   0%|          | 0/1 [00:00<?, ?it/s]"
      ]
     },
     "metadata": {},
     "output_type": "display_data"
    },
    {
     "data": {
      "application/vnd.jupyter.widget-view+json": {
       "model_id": "5be19cdc30e04a22a832982106d4bb96",
       "version_major": 2,
       "version_minor": 0
      },
      "text/plain": [
       "Export report to file:   0%|          | 0/1 [00:00<?, ?it/s]"
      ]
     },
     "metadata": {},
     "output_type": "display_data"
    }
   ],
   "source": [
    "profile = df.profile_report()\n",
    "profile.to_file(\"eda_report.html\")"
   ]
  }
 ],
 "metadata": {
  "kernelspec": {
   "display_name": "dev_lhl",
   "language": "python",
   "name": "dev_lhl"
  },
  "language_info": {
   "codemirror_mode": {
    "name": "ipython",
    "version": 3
   },
   "file_extension": ".py",
   "mimetype": "text/x-python",
   "name": "python",
   "nbconvert_exporter": "python",
   "pygments_lexer": "ipython3",
   "version": "3.11.3"
  }
 },
 "nbformat": 4,
 "nbformat_minor": 4
}
