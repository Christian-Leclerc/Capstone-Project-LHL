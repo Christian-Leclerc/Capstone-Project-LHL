{
 "cells": [
  {
   "cell_type": "code",
   "execution_count": 1,
   "metadata": {
    "tags": []
   },
   "outputs": [],
   "source": [
    "from modules.data_loading import load_train_data, load_test_data\n",
    "from modules.data_preprocessing import clean_data, feature_engineering\n",
    "import pandas as pd\n",
    "import numpy as np\n",
    "import ydata_profiling\n",
    "from sklearn.linear_model import LinearRegression\n",
    "from sklearn.model_selection import train_test_split\n",
    "from sklearn.metrics import mean_absolute_error, mean_squared_error\n",
    "from math import sqrt\n",
    "import re\n",
    "from datetime import datetime"
   ]
  },
  {
   "cell_type": "code",
   "execution_count": 2,
   "metadata": {
    "tags": []
   },
   "outputs": [
    {
     "data": {
      "text/plain": [
       "1758"
      ]
     },
     "execution_count": 2,
     "metadata": {},
     "output_type": "execute_result"
    }
   ],
   "source": [
    "df=load_train_data()\n",
    "df_cleaned = clean_data(df)\n",
    "df_engineered = feature_engineering(df_cleaned)\n",
    "df_engineered.shape[0]"
   ]
  },
  {
   "cell_type": "code",
   "execution_count": 3,
   "metadata": {},
   "outputs": [
    {
     "data": {
      "text/plain": [
       "Index(['ID', 'price', 'units', 'income', 'YearBuilt', 'build_type',\n",
       "       'Dimensions du bâtiment', 'land_eval', 'Superficie habitable',\n",
       "       'build_eval', 'Dimensions du terrain', 'Cert. de localisation',\n",
       "       'Superficie du terrain', 'Plan d'eau', 'Piscine',\n",
       "       'Stationnement (total)', 'Chauffage', 'Eau (accès)', 'Foyers-Poêles',\n",
       "       'Équip./Serv.', 'renovations', 'inclusions', 'exclusions', 'remarks',\n",
       "       'addenda', 'rooms', 'Nbre chambres (hors-sol + sous-sol)',\n",
       "       'Nbre salles de bains + salles d'eau', 'year_built', 'living_area',\n",
       "       'yard_area', 'has_certificate', 'year_certificate', 'due_certificate',\n",
       "       'near_water', 'water_name', 'has_pool', 'pool_type', 'total_parking',\n",
       "       'Plinthes électriques', 'Convecteurs', 'Eau chaude',\n",
       "       'Air soufflé (pulsé)', 'Radiant', 'Thermopompe', 'Gaz naturel',\n",
       "       'Poêle à bois', 'Foyer au gaz'],\n",
       "      dtype='object')"
      ]
     },
     "execution_count": 3,
     "metadata": {},
     "output_type": "execute_result"
    }
   ],
   "source": [
    "df_engineered.columns"
   ]
  },
  {
   "cell_type": "code",
   "execution_count": 14,
   "metadata": {},
   "outputs": [
    {
     "data": {
      "text/html": [
       "<div>\n",
       "<style scoped>\n",
       "    .dataframe tbody tr th:only-of-type {\n",
       "        vertical-align: middle;\n",
       "    }\n",
       "\n",
       "    .dataframe tbody tr th {\n",
       "        vertical-align: top;\n",
       "    }\n",
       "\n",
       "    .dataframe thead th {\n",
       "        text-align: right;\n",
       "    }\n",
       "</style>\n",
       "<table border=\"1\" class=\"dataframe\">\n",
       "  <thead>\n",
       "    <tr style=\"text-align: right;\">\n",
       "      <th></th>\n",
       "      <th>Nbre chambres (hors-sol + sous-sol)</th>\n",
       "      <th>Nbre salles de bains + salles d'eau</th>\n",
       "    </tr>\n",
       "  </thead>\n",
       "  <tbody>\n",
       "    <tr>\n",
       "      <th>0</th>\n",
       "      <td>3.0</td>\n",
       "      <td>1+0</td>\n",
       "    </tr>\n",
       "    <tr>\n",
       "      <th>1</th>\n",
       "      <td>3.0</td>\n",
       "      <td>1+0</td>\n",
       "    </tr>\n",
       "    <tr>\n",
       "      <th>2</th>\n",
       "      <td>3.0</td>\n",
       "      <td>1+0</td>\n",
       "    </tr>\n",
       "    <tr>\n",
       "      <th>3</th>\n",
       "      <td>3.0</td>\n",
       "      <td>1+0</td>\n",
       "    </tr>\n",
       "    <tr>\n",
       "      <th>4</th>\n",
       "      <td>3.0</td>\n",
       "      <td>1+0</td>\n",
       "    </tr>\n",
       "  </tbody>\n",
       "</table>\n",
       "</div>"
      ],
      "text/plain": [
       "   Nbre chambres (hors-sol + sous-sol) Nbre salles de bains + salles d'eau\n",
       "0                                  3.0                                 1+0\n",
       "1                                  3.0                                 1+0\n",
       "2                                  3.0                                 1+0\n",
       "3                                  3.0                                 1+0\n",
       "4                                  3.0                                 1+0"
      ]
     },
     "execution_count": 14,
     "metadata": {},
     "output_type": "execute_result"
    }
   ],
   "source": [
    "df_engineered[['Nbre chambres (hors-sol + sous-sol)',\n",
    "       \"Nbre salles de bains + salles d'eau\"]].head()"
   ]
  },
  {
   "cell_type": "code",
   "execution_count": null,
   "metadata": {},
   "outputs": [],
   "source": []
  },
  {
   "cell_type": "code",
   "execution_count": null,
   "metadata": {},
   "outputs": [],
   "source": []
  },
  {
   "cell_type": "markdown",
   "metadata": {},
   "source": [
    "EDA Profiling"
   ]
  },
  {
   "cell_type": "code",
   "execution_count": null,
   "metadata": {},
   "outputs": [],
   "source": [
    "profile = df.profile_report()\n",
    "profile.to_file(\"eda_report.html\")"
   ]
  }
 ],
 "metadata": {
  "kernelspec": {
   "display_name": "dev_lhl",
   "language": "python",
   "name": "dev_lhl"
  },
  "language_info": {
   "codemirror_mode": {
    "name": "ipython",
    "version": 3
   },
   "file_extension": ".py",
   "mimetype": "text/x-python",
   "name": "python",
   "nbconvert_exporter": "python",
   "pygments_lexer": "ipython3",
   "version": "3.11.3"
  }
 },
 "nbformat": 4,
 "nbformat_minor": 4
}
